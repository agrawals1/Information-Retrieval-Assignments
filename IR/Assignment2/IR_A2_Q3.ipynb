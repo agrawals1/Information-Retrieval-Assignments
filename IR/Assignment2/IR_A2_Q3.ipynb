{
 "cells": [
  {
   "attachments": {},
   "cell_type": "markdown",
   "id": "b13bcc14",
   "metadata": {},
   "source": [
    "### Question 1"
   ]
  },
  {
   "cell_type": "code",
   "execution_count": 1,
   "id": "99bc6ad3",
   "metadata": {},
   "outputs": [],
   "source": [
    "import pandas as pd"
   ]
  },
  {
   "cell_type": "code",
   "execution_count": 2,
   "id": "20d1d2d8",
   "metadata": {},
   "outputs": [
    {
     "data": {
      "text/html": [
       "<div>\n",
       "<style scoped>\n",
       "    .dataframe tbody tr th:only-of-type {\n",
       "        vertical-align: middle;\n",
       "    }\n",
       "\n",
       "    .dataframe tbody tr th {\n",
       "        vertical-align: top;\n",
       "    }\n",
       "\n",
       "    .dataframe thead th {\n",
       "        text-align: right;\n",
       "    }\n",
       "</style>\n",
       "<table border=\"1\" class=\"dataframe\">\n",
       "  <thead>\n",
       "    <tr style=\"text-align: right;\">\n",
       "      <th></th>\n",
       "      <th>0</th>\n",
       "      <th>1</th>\n",
       "      <th>2</th>\n",
       "      <th>3</th>\n",
       "      <th>4</th>\n",
       "      <th>5</th>\n",
       "      <th>6</th>\n",
       "      <th>7</th>\n",
       "      <th>8</th>\n",
       "      <th>9</th>\n",
       "      <th>...</th>\n",
       "      <th>129</th>\n",
       "      <th>130</th>\n",
       "      <th>131</th>\n",
       "      <th>132</th>\n",
       "      <th>133</th>\n",
       "      <th>134</th>\n",
       "      <th>135</th>\n",
       "      <th>136</th>\n",
       "      <th>137</th>\n",
       "      <th>138</th>\n",
       "    </tr>\n",
       "  </thead>\n",
       "  <tbody>\n",
       "    <tr>\n",
       "      <th>0</th>\n",
       "      <td>0</td>\n",
       "      <td>qid:4</td>\n",
       "      <td>1:3</td>\n",
       "      <td>2:0</td>\n",
       "      <td>3:2</td>\n",
       "      <td>4:0</td>\n",
       "      <td>5:3</td>\n",
       "      <td>6:1</td>\n",
       "      <td>7:0</td>\n",
       "      <td>8:0.666667</td>\n",
       "      <td>...</td>\n",
       "      <td>128:2</td>\n",
       "      <td>129:9</td>\n",
       "      <td>130:124</td>\n",
       "      <td>131:4678</td>\n",
       "      <td>132:54</td>\n",
       "      <td>133:74</td>\n",
       "      <td>134:0</td>\n",
       "      <td>135:0</td>\n",
       "      <td>136:0</td>\n",
       "      <td>NaN</td>\n",
       "    </tr>\n",
       "    <tr>\n",
       "      <th>1</th>\n",
       "      <td>0</td>\n",
       "      <td>qid:4</td>\n",
       "      <td>1:3</td>\n",
       "      <td>2:0</td>\n",
       "      <td>3:3</td>\n",
       "      <td>4:0</td>\n",
       "      <td>5:3</td>\n",
       "      <td>6:1</td>\n",
       "      <td>7:0</td>\n",
       "      <td>8:1</td>\n",
       "      <td>...</td>\n",
       "      <td>128:0</td>\n",
       "      <td>129:8</td>\n",
       "      <td>130:122</td>\n",
       "      <td>131:508</td>\n",
       "      <td>132:131</td>\n",
       "      <td>133:136</td>\n",
       "      <td>134:0</td>\n",
       "      <td>135:0</td>\n",
       "      <td>136:0</td>\n",
       "      <td>NaN</td>\n",
       "    </tr>\n",
       "    <tr>\n",
       "      <th>2</th>\n",
       "      <td>0</td>\n",
       "      <td>qid:4</td>\n",
       "      <td>1:3</td>\n",
       "      <td>2:0</td>\n",
       "      <td>3:2</td>\n",
       "      <td>4:0</td>\n",
       "      <td>5:3</td>\n",
       "      <td>6:1</td>\n",
       "      <td>7:0</td>\n",
       "      <td>8:0.666667</td>\n",
       "      <td>...</td>\n",
       "      <td>128:2</td>\n",
       "      <td>129:8</td>\n",
       "      <td>130:115</td>\n",
       "      <td>131:508</td>\n",
       "      <td>132:51</td>\n",
       "      <td>133:70</td>\n",
       "      <td>134:0</td>\n",
       "      <td>135:0</td>\n",
       "      <td>136:0</td>\n",
       "      <td>NaN</td>\n",
       "    </tr>\n",
       "    <tr>\n",
       "      <th>3</th>\n",
       "      <td>0</td>\n",
       "      <td>qid:4</td>\n",
       "      <td>1:3</td>\n",
       "      <td>2:0</td>\n",
       "      <td>3:3</td>\n",
       "      <td>4:0</td>\n",
       "      <td>5:3</td>\n",
       "      <td>6:1</td>\n",
       "      <td>7:0</td>\n",
       "      <td>8:1</td>\n",
       "      <td>...</td>\n",
       "      <td>128:82</td>\n",
       "      <td>129:17</td>\n",
       "      <td>130:122</td>\n",
       "      <td>131:508</td>\n",
       "      <td>132:83</td>\n",
       "      <td>133:107</td>\n",
       "      <td>134:0</td>\n",
       "      <td>135:10</td>\n",
       "      <td>136:13.35</td>\n",
       "      <td>NaN</td>\n",
       "    </tr>\n",
       "    <tr>\n",
       "      <th>4</th>\n",
       "      <td>1</td>\n",
       "      <td>qid:4</td>\n",
       "      <td>1:3</td>\n",
       "      <td>2:0</td>\n",
       "      <td>3:3</td>\n",
       "      <td>4:0</td>\n",
       "      <td>5:3</td>\n",
       "      <td>6:1</td>\n",
       "      <td>7:0</td>\n",
       "      <td>8:1</td>\n",
       "      <td>...</td>\n",
       "      <td>128:11</td>\n",
       "      <td>129:8</td>\n",
       "      <td>130:121</td>\n",
       "      <td>131:508</td>\n",
       "      <td>132:103</td>\n",
       "      <td>133:120</td>\n",
       "      <td>134:0</td>\n",
       "      <td>135:0</td>\n",
       "      <td>136:0</td>\n",
       "      <td>NaN</td>\n",
       "    </tr>\n",
       "  </tbody>\n",
       "</table>\n",
       "<p>5 rows × 139 columns</p>\n",
       "</div>"
      ],
      "text/plain": [
       "   0      1    2    3    4    5    6    7    8           9    ...     129  \\\n",
       "0    0  qid:4  1:3  2:0  3:2  4:0  5:3  6:1  7:0  8:0.666667  ...   128:2   \n",
       "1    0  qid:4  1:3  2:0  3:3  4:0  5:3  6:1  7:0         8:1  ...   128:0   \n",
       "2    0  qid:4  1:3  2:0  3:2  4:0  5:3  6:1  7:0  8:0.666667  ...   128:2   \n",
       "3    0  qid:4  1:3  2:0  3:3  4:0  5:3  6:1  7:0         8:1  ...  128:82   \n",
       "4    1  qid:4  1:3  2:0  3:3  4:0  5:3  6:1  7:0         8:1  ...  128:11   \n",
       "\n",
       "      130      131       132      133      134    135     136        137 138  \n",
       "0   129:9  130:124  131:4678   132:54   133:74  134:0   135:0      136:0 NaN  \n",
       "1   129:8  130:122   131:508  132:131  133:136  134:0   135:0      136:0 NaN  \n",
       "2   129:8  130:115   131:508   132:51   133:70  134:0   135:0      136:0 NaN  \n",
       "3  129:17  130:122   131:508   132:83  133:107  134:0  135:10  136:13.35 NaN  \n",
       "4   129:8  130:121   131:508  132:103  133:120  134:0   135:0      136:0 NaN  \n",
       "\n",
       "[5 rows x 139 columns]"
      ]
     },
     "execution_count": 2,
     "metadata": {},
     "output_type": "execute_result"
    }
   ],
   "source": [
    "df = pd.read_csv('Rank.txt', sep=' ', header=None)\n",
    "df = df[df[1] == 'qid:4']\n",
    "df.head()"
   ]
  },
  {
   "cell_type": "code",
   "execution_count": 3,
   "id": "b13b66f8",
   "metadata": {},
   "outputs": [
    {
     "data": {
      "text/plain": [
       "103"
      ]
     },
     "execution_count": 3,
     "metadata": {},
     "output_type": "execute_result"
    }
   ],
   "source": [
    "len(df)"
   ]
  },
  {
   "cell_type": "code",
   "execution_count": 4,
   "id": "1348b554",
   "metadata": {},
   "outputs": [
    {
     "data": {
      "text/html": [
       "<div>\n",
       "<style scoped>\n",
       "    .dataframe tbody tr th:only-of-type {\n",
       "        vertical-align: middle;\n",
       "    }\n",
       "\n",
       "    .dataframe tbody tr th {\n",
       "        vertical-align: top;\n",
       "    }\n",
       "\n",
       "    .dataframe thead th {\n",
       "        text-align: right;\n",
       "    }\n",
       "</style>\n",
       "<table border=\"1\" class=\"dataframe\">\n",
       "  <thead>\n",
       "    <tr style=\"text-align: right;\">\n",
       "      <th></th>\n",
       "      <th>relevance</th>\n",
       "      <th>qid</th>\n",
       "    </tr>\n",
       "  </thead>\n",
       "  <tbody>\n",
       "    <tr>\n",
       "      <th>0</th>\n",
       "      <td>0</td>\n",
       "      <td>qid:4</td>\n",
       "    </tr>\n",
       "    <tr>\n",
       "      <th>1</th>\n",
       "      <td>0</td>\n",
       "      <td>qid:4</td>\n",
       "    </tr>\n",
       "    <tr>\n",
       "      <th>2</th>\n",
       "      <td>0</td>\n",
       "      <td>qid:4</td>\n",
       "    </tr>\n",
       "    <tr>\n",
       "      <th>3</th>\n",
       "      <td>0</td>\n",
       "      <td>qid:4</td>\n",
       "    </tr>\n",
       "    <tr>\n",
       "      <th>4</th>\n",
       "      <td>1</td>\n",
       "      <td>qid:4</td>\n",
       "    </tr>\n",
       "  </tbody>\n",
       "</table>\n",
       "</div>"
      ],
      "text/plain": [
       "   relevance    qid\n",
       "0          0  qid:4\n",
       "1          0  qid:4\n",
       "2          0  qid:4\n",
       "3          0  qid:4\n",
       "4          1  qid:4"
      ]
     },
     "execution_count": 4,
     "metadata": {},
     "output_type": "execute_result"
    }
   ],
   "source": [
    "# removing feature columns\n",
    "df_reduce = df.iloc[:, :2]\n",
    "df_reduce.columns = ['relevance', 'qid']\n",
    "df_reduce.head()"
   ]
  },
  {
   "cell_type": "code",
   "execution_count": 5,
   "id": "5286bf07",
   "metadata": {},
   "outputs": [
    {
     "data": {
      "text/plain": [
       "103"
      ]
     },
     "execution_count": 5,
     "metadata": {},
     "output_type": "execute_result"
    }
   ],
   "source": [
    "len(df_reduce)\n"
   ]
  },
  {
   "cell_type": "code",
   "execution_count": 6,
   "id": "49b099af",
   "metadata": {},
   "outputs": [
    {
     "data": {
      "text/html": [
       "<div>\n",
       "<style scoped>\n",
       "    .dataframe tbody tr th:only-of-type {\n",
       "        vertical-align: middle;\n",
       "    }\n",
       "\n",
       "    .dataframe tbody tr th {\n",
       "        vertical-align: top;\n",
       "    }\n",
       "\n",
       "    .dataframe thead th {\n",
       "        text-align: right;\n",
       "    }\n",
       "</style>\n",
       "<table border=\"1\" class=\"dataframe\">\n",
       "  <thead>\n",
       "    <tr style=\"text-align: right;\">\n",
       "      <th></th>\n",
       "      <th>0</th>\n",
       "      <th>1</th>\n",
       "      <th>2</th>\n",
       "      <th>3</th>\n",
       "      <th>4</th>\n",
       "      <th>5</th>\n",
       "      <th>6</th>\n",
       "      <th>7</th>\n",
       "      <th>8</th>\n",
       "      <th>9</th>\n",
       "      <th>...</th>\n",
       "      <th>129</th>\n",
       "      <th>130</th>\n",
       "      <th>131</th>\n",
       "      <th>132</th>\n",
       "      <th>133</th>\n",
       "      <th>134</th>\n",
       "      <th>135</th>\n",
       "      <th>136</th>\n",
       "      <th>137</th>\n",
       "      <th>138</th>\n",
       "    </tr>\n",
       "  </thead>\n",
       "  <tbody>\n",
       "    <tr>\n",
       "      <th>7</th>\n",
       "      <td>3</td>\n",
       "      <td>qid:4</td>\n",
       "      <td>1:3</td>\n",
       "      <td>2:0</td>\n",
       "      <td>3:2</td>\n",
       "      <td>4:1</td>\n",
       "      <td>5:3</td>\n",
       "      <td>6:1</td>\n",
       "      <td>7:0</td>\n",
       "      <td>8:0.666667</td>\n",
       "      <td>...</td>\n",
       "      <td>128:349</td>\n",
       "      <td>129:8</td>\n",
       "      <td>130:123</td>\n",
       "      <td>131:281</td>\n",
       "      <td>132:22</td>\n",
       "      <td>133:6</td>\n",
       "      <td>134:0</td>\n",
       "      <td>135:0</td>\n",
       "      <td>136:0</td>\n",
       "      <td>NaN</td>\n",
       "    </tr>\n",
       "    <tr>\n",
       "      <th>76</th>\n",
       "      <td>2</td>\n",
       "      <td>qid:4</td>\n",
       "      <td>1:2</td>\n",
       "      <td>2:0</td>\n",
       "      <td>3:1</td>\n",
       "      <td>4:0</td>\n",
       "      <td>5:2</td>\n",
       "      <td>6:0.666667</td>\n",
       "      <td>7:0</td>\n",
       "      <td>8:0.333333</td>\n",
       "      <td>...</td>\n",
       "      <td>128:0</td>\n",
       "      <td>129:0</td>\n",
       "      <td>130:2417</td>\n",
       "      <td>131:721</td>\n",
       "      <td>132:14</td>\n",
       "      <td>133:113</td>\n",
       "      <td>134:0</td>\n",
       "      <td>135:13</td>\n",
       "      <td>136:47.9</td>\n",
       "      <td>NaN</td>\n",
       "    </tr>\n",
       "    <tr>\n",
       "      <th>40</th>\n",
       "      <td>2</td>\n",
       "      <td>qid:4</td>\n",
       "      <td>1:3</td>\n",
       "      <td>2:2</td>\n",
       "      <td>3:2</td>\n",
       "      <td>4:0</td>\n",
       "      <td>5:3</td>\n",
       "      <td>6:1</td>\n",
       "      <td>7:0.666667</td>\n",
       "      <td>8:0.666667</td>\n",
       "      <td>...</td>\n",
       "      <td>128:8</td>\n",
       "      <td>129:3</td>\n",
       "      <td>130:1888</td>\n",
       "      <td>131:9338</td>\n",
       "      <td>132:3</td>\n",
       "      <td>133:11</td>\n",
       "      <td>134:0</td>\n",
       "      <td>135:0</td>\n",
       "      <td>136:0</td>\n",
       "      <td>NaN</td>\n",
       "    </tr>\n",
       "    <tr>\n",
       "      <th>36</th>\n",
       "      <td>2</td>\n",
       "      <td>qid:4</td>\n",
       "      <td>1:3</td>\n",
       "      <td>2:0</td>\n",
       "      <td>3:2</td>\n",
       "      <td>4:0</td>\n",
       "      <td>5:3</td>\n",
       "      <td>6:1</td>\n",
       "      <td>7:0</td>\n",
       "      <td>8:0.666667</td>\n",
       "      <td>...</td>\n",
       "      <td>128:0</td>\n",
       "      <td>129:2</td>\n",
       "      <td>130:12028</td>\n",
       "      <td>131:11379</td>\n",
       "      <td>132:26</td>\n",
       "      <td>133:24</td>\n",
       "      <td>134:0</td>\n",
       "      <td>135:77</td>\n",
       "      <td>136:23.9595223404047</td>\n",
       "      <td>NaN</td>\n",
       "    </tr>\n",
       "    <tr>\n",
       "      <th>90</th>\n",
       "      <td>2</td>\n",
       "      <td>qid:4</td>\n",
       "      <td>1:3</td>\n",
       "      <td>2:0</td>\n",
       "      <td>3:3</td>\n",
       "      <td>4:3</td>\n",
       "      <td>5:3</td>\n",
       "      <td>6:1</td>\n",
       "      <td>7:0</td>\n",
       "      <td>8:1</td>\n",
       "      <td>...</td>\n",
       "      <td>128:27</td>\n",
       "      <td>129:0</td>\n",
       "      <td>130:814</td>\n",
       "      <td>131:13555</td>\n",
       "      <td>132:108</td>\n",
       "      <td>133:113</td>\n",
       "      <td>134:0</td>\n",
       "      <td>135:0</td>\n",
       "      <td>136:0</td>\n",
       "      <td>NaN</td>\n",
       "    </tr>\n",
       "  </tbody>\n",
       "</table>\n",
       "<p>5 rows × 139 columns</p>\n",
       "</div>"
      ],
      "text/plain": [
       "    0      1    2    3    4    5    6           7           8           9    \\\n",
       "7     3  qid:4  1:3  2:0  3:2  4:1  5:3         6:1         7:0  8:0.666667   \n",
       "76    2  qid:4  1:2  2:0  3:1  4:0  5:2  6:0.666667         7:0  8:0.333333   \n",
       "40    2  qid:4  1:3  2:2  3:2  4:0  5:3         6:1  7:0.666667  8:0.666667   \n",
       "36    2  qid:4  1:3  2:0  3:2  4:0  5:3         6:1         7:0  8:0.666667   \n",
       "90    2  qid:4  1:3  2:0  3:3  4:3  5:3         6:1         7:0         8:1   \n",
       "\n",
       "    ...      129    130        131        132      133      134    135  \\\n",
       "7   ...  128:349  129:8    130:123    131:281   132:22    133:6  134:0   \n",
       "76  ...    128:0  129:0   130:2417    131:721   132:14  133:113  134:0   \n",
       "40  ...    128:8  129:3   130:1888   131:9338    132:3   133:11  134:0   \n",
       "36  ...    128:0  129:2  130:12028  131:11379   132:26   133:24  134:0   \n",
       "90  ...   128:27  129:0    130:814  131:13555  132:108  133:113  134:0   \n",
       "\n",
       "       136                   137 138  \n",
       "7    135:0                 136:0 NaN  \n",
       "76  135:13              136:47.9 NaN  \n",
       "40   135:0                 136:0 NaN  \n",
       "36  135:77  136:23.9595223404047 NaN  \n",
       "90   135:0                 136:0 NaN  \n",
       "\n",
       "[5 rows x 139 columns]"
      ]
     },
     "execution_count": 6,
     "metadata": {},
     "output_type": "execute_result"
    }
   ],
   "source": [
    "#  Sort by relevance judgement scores to calculate maxDCG\n",
    "df_maxDCG = df.sort_values(by=[0], ascending=False)\n",
    "df_maxDCG.head()"
   ]
  },
  {
   "cell_type": "code",
   "execution_count": 7,
   "id": "c5276609",
   "metadata": {},
   "outputs": [],
   "source": [
    "df_maxDCG.to_csv(\"maxDCG.csv\")"
   ]
  },
  {
   "cell_type": "code",
   "execution_count": 8,
   "id": "c3856c9d",
   "metadata": {},
   "outputs": [
    {
     "name": "stdout",
     "output_type": "stream",
     "text": [
      "[(0, 59), (1, 26), (2, 17), (3, 1)]\n"
     ]
    }
   ],
   "source": [
    "# list of tuples, where the first element of the tuple denotes the relevance score and the second denotes its frequency\n",
    "\n",
    "rel_list = list(df_maxDCG.loc[:, 0])\n",
    "count_freq = [ (i,rel_list.count(i)) for i in set(rel_list) ]\n",
    "print(count_freq)\n",
    "\n"
   ]
  },
  {
   "cell_type": "code",
   "execution_count": 9,
   "id": "0b40aad1",
   "metadata": {},
   "outputs": [],
   "source": [
    "# no, of files with MaxDCG = 17! * 26! * 59!\n",
    "import math\n",
    "total_files = math.factorial(17) * math.factorial(26) * math.factorial(59)  # These many files are possible with MAX DCG score"
   ]
  },
  {
   "cell_type": "code",
   "execution_count": 10,
   "id": "c1f08440",
   "metadata": {},
   "outputs": [
    {
     "name": "stdout",
     "output_type": "stream",
     "text": [
      "19893497375938370599826047614905329896936840170566570588205180312704857992695193482412686565431050240000000000000000000000\n"
     ]
    }
   ],
   "source": [
    "print(total_files)"
   ]
  },
  {
   "cell_type": "code",
   "execution_count": 11,
   "id": "1a32a7c0",
   "metadata": {},
   "outputs": [
    {
     "name": "stdout",
     "output_type": "stream",
     "text": [
      "DCG = 7.390580969258021\n",
      "DCG_Max = 20.989750804831445\n",
      "DCG_dataset = 12.550247459532576\n",
      "DCG_Max_dataset = 20.989750804831445\n",
      "NDCG is 0.3521042740324887\n",
      "NDCG for entire dataset is 0.5979226516897831\n"
     ]
    }
   ],
   "source": [
    "def DCG(scores, n):\n",
    "    dcg = scores[0]\n",
    "    for i in range(1,n):\n",
    "        dcg += scores[i] / (math.log2(i+1))\n",
    "    return dcg\n",
    "\n",
    "\n",
    "rel_list = list(df_reduce.loc[:, 'relevance'])\n",
    "rel_max_list = list(df_maxDCG.loc[:, 0])\n",
    "dcg = DCG(rel_list, 50)\n",
    "dcg_ideal = DCG(rel_max_list, 50)\n",
    "dcg_dataset = DCG(rel_list, len(rel_list))\n",
    "dcg_dataset_ideal = DCG(rel_max_list, len(rel_max_list))\n",
    "print(f\"DCG = {dcg}\")\n",
    "print(f\"DCG_Max = {dcg_ideal}\")\n",
    "print(f\"DCG_dataset = {dcg_dataset}\")\n",
    "print(f\"DCG_Max_dataset = {dcg_dataset_ideal}\")\n",
    "print(f\"NDCG is {dcg / dcg_ideal}\")\n",
    "print(f\"NDCG for entire dataset is {dcg_dataset / dcg_dataset_ideal}\")\n"
   ]
  },
  {
   "cell_type": "code",
   "execution_count": 12,
   "id": "9027a6c7",
   "metadata": {},
   "outputs": [
    {
     "name": "stdout",
     "output_type": "stream",
     "text": [
      "['90.53171', '538.388954', '88.171761', '144.564444', '142.589323', '463.099129', '103.400313', '411.010633', '972.826451', '142.589323', '84.625987', '91.160998', '180.720002', '237.21632', '22.480108', '84.625987', '14.972391', '42.227139', '81.947653', '157.05992', '84.625987', '143.445062', '166.683125', '70.466293', '121.96152', '69.811973', '74.434086', '186.375414', '79.630746', '176.875026', '19.313312', '187.934366', '94.958714', '121.007996', '89.877389', '85.634253', '217.848266', '156.301965', '200.840161', '201.720933', '192.953467', '212.401296', '169.844071', '148.415271', '148.415271', '91.717534', '143.769297', '71.646268', '185.617459', '3.539923', '176.000104', '76.360315', '237.21632', '202.442155', '305.102064', '188.936782', '571.500533', '68.100494', '142.038637', '188.129935', '439.396463', '161.455583', '161.15638', '98.418404', '43.297629', '226.444023', '77.167163', '612.893205', '121.814843', '95.257458', '18.133337', '95.257458', '198.480212', '316.319283', '81.140806', '85.805962', '108.548081', '75.987188', '84.625987', '177.168378', '200.840161', '3.539923', '140.479685', '84.625987', '292.184568', '180.24324', '14.972391', '84.625987', '98.148911', '130.655061', '311.705149', '73.279603', '81.140806', '142.96830', '15.773388', '161.455583', '18.133337', '22.419515', '70.460443', '270.13233', '296.023694', '528.520116', '84.625987']\n"
     ]
    }
   ],
   "source": [
    "y_pred_raw = list(df[76])\n",
    "y_pred_raw = [e[3:] for e in y_pred_raw]\n",
    "print(y_pred_raw)"
   ]
  },
  {
   "cell_type": "code",
   "execution_count": 13,
   "id": "632abbb8",
   "metadata": {},
   "outputs": [
    {
     "name": "stdout",
     "output_type": "stream",
     "text": [
      "[90.53171, 538.388954, 88.171761, 144.564444, 142.589323, 463.099129, 103.400313, 411.010633, 972.826451, 142.589323, 84.625987, 91.160998, 180.720002, 237.21632, 22.480108, 84.625987, 14.972391, 42.227139, 81.947653, 157.05992, 84.625987, 143.445062, 166.683125, 70.466293, 121.96152, 69.811973, 74.434086, 186.375414, 79.630746, 176.875026, 19.313312, 187.934366, 94.958714, 121.007996, 89.877389, 85.634253, 217.848266, 156.301965, 200.840161, 201.720933, 192.953467, 212.401296, 169.844071, 148.415271, 148.415271, 91.717534, 143.769297, 71.646268, 185.617459, 3.539923, 176.000104, 76.360315, 237.21632, 202.442155, 305.102064, 188.936782, 571.500533, 68.100494, 142.038637, 188.129935, 439.396463, 161.455583, 161.15638, 98.418404, 43.297629, 226.444023, 77.167163, 612.893205, 121.814843, 95.257458, 18.133337, 95.257458, 198.480212, 316.319283, 81.140806, 85.805962, 108.548081, 75.987188, 84.625987, 177.168378, 200.840161, 3.539923, 140.479685, 84.625987, 292.184568, 180.24324, 14.972391, 84.625987, 98.148911, 130.655061, 311.705149, 73.279603, 81.140806, 142.9683, 15.773388, 161.455583, 18.133337, 22.419515, 70.460443, 270.13233, 296.023694, 528.520116, 84.625987]\n"
     ]
    }
   ],
   "source": [
    "y_pred_raw = list(map(float, y_pred_raw))\n",
    "y_pred_sort_raw = sorted(y_pred_raw, reverse=True)\n",
    "print(y_pred_raw)"
   ]
  },
  {
   "cell_type": "code",
   "execution_count": 14,
   "id": "487725f2",
   "metadata": {},
   "outputs": [
    {
     "data": {
      "text/plain": [
       "[0.09306049389070323,\n",
       " 0.5534275444983763,\n",
       " 0.09063462543536453,\n",
       " 0.14860250135201145,\n",
       " 0.14657221013411775,\n",
       " 0.476034680722307,\n",
       " 0.10628855012495954,\n",
       " 0.42249121883714075,\n",
       " 1.0,\n",
       " 0.14657221013411775,\n",
       " 0.08698980883281925,\n",
       " 0.09370735952573313,\n",
       " 0.18576797723194308,\n",
       " 0.24384238294112748,\n",
       " 0.0231080353303428,\n",
       " 0.08698980883281925,\n",
       " 0.015390608452935661,\n",
       " 0.043406651779043785,\n",
       " 0.08423666206419793,\n",
       " 0.16144700818789723,\n",
       " 0.08698980883281925,\n",
       " 0.14745185212896725,\n",
       " 0.17133901409512556,\n",
       " 0.07243459810078703,\n",
       " 0.1253682194543865,\n",
       " 0.07176200125750898,\n",
       " 0.07651322178121983,\n",
       " 0.19158135945873864,\n",
       " 0.08185503788280526,\n",
       " 0.181815601146725,\n",
       " 0.01985278255967158,\n",
       " 0.19318385700431578,\n",
       " 0.09761115551739866,\n",
       " 0.12438806107257049,\n",
       " 0.09238789601949259,\n",
       " 0.08802623829972321,\n",
       " 0.22393332929636797,\n",
       " 0.16066788155208167,\n",
       " 0.20645014410694718,\n",
       " 0.2073555183379774,\n",
       " 0.19834315442559855,\n",
       " 0.21833421139162673,\n",
       " 0.17458825346022588,\n",
       " 0.15256089187073305,\n",
       " 0.15256089187073305,\n",
       " 0.09427944100997722,\n",
       " 0.1477851438478208,\n",
       " 0.07364753284242269,\n",
       " 0.1908022328229231,\n",
       " 0.0036388021690417624,\n",
       " 0.1809162403212657,\n",
       " 0.07849325531959657,\n",
       " 0.24384238294112748,\n",
       " 0.20809688592647035,\n",
       " 0.31362435066025973,\n",
       " 0.19421427306564878,\n",
       " 0.5874640152028514,\n",
       " 0.0700027162398774,\n",
       " 0.14600614205544457,\n",
       " 0.19338488875031626,\n",
       " 0.45166993819743495,\n",
       " 0.16596545337972105,\n",
       " 0.16565789286911567,\n",
       " 0.10116748357205184,\n",
       " 0.04450704332257101,\n",
       " 0.23276918793401516,\n",
       " 0.07932264066286167,\n",
       " 0.6300128911688072,\n",
       " 0.125217445387903,\n",
       " 0.09791824420695157,\n",
       " 0.018639847818035942,\n",
       " 0.09791824420695157,\n",
       " 0.20402427565160847,\n",
       " 0.32515489548505294,\n",
       " 0.0834072777488654,\n",
       " 0.08820274357445487,\n",
       " 0.11158010854702798,\n",
       " 0.07810970592122603,\n",
       " 0.08698980883281925,\n",
       " 0.18211714722382685,\n",
       " 0.20645014410694718,\n",
       " 0.0036388021690417624,\n",
       " 0.14440364450986745,\n",
       " 0.08698980883281925,\n",
       " 0.3003460357185539,\n",
       " 0.18527789804103506,\n",
       " 0.015390608452935661,\n",
       " 0.08698980883281925,\n",
       " 0.1008904629382862,\n",
       " 0.13430459345106766,\n",
       " 0.3204118768353678,\n",
       " 0.07532649109681742,\n",
       " 0.0834072777488654,\n",
       " 0.14696177293805923,\n",
       " 0.016213979362697244,\n",
       " 0.16596545337972105,\n",
       " 0.018639847818035942,\n",
       " 0.02304574981175137,\n",
       " 0.0724285846952161,\n",
       " 0.2776778218996021,\n",
       " 0.304292398398201,\n",
       " 0.5432830444286512,\n",
       " 0.08698980883281925]"
      ]
     },
     "execution_count": 14,
     "metadata": {},
     "output_type": "execute_result"
    }
   ],
   "source": [
    "max = sorted(y_pred_raw, reverse=True)[0]\n",
    "y_pred = [ele / max for ele in y_pred_raw]  # dividing by max value of feature 75\n",
    "y_pred"
   ]
  },
  {
   "cell_type": "code",
   "execution_count": 15,
   "id": "a650c70e",
   "metadata": {},
   "outputs": [
    {
     "data": {
      "text/plain": [
       "[0,\n",
       " 0,\n",
       " 0,\n",
       " 0,\n",
       " 1,\n",
       " 0,\n",
       " 1,\n",
       " 1,\n",
       " 0,\n",
       " 0,\n",
       " 1,\n",
       " 0,\n",
       " 0,\n",
       " 1,\n",
       " 0,\n",
       " 0,\n",
       " 0,\n",
       " 1,\n",
       " 1,\n",
       " 1,\n",
       " 1,\n",
       " 1,\n",
       " 1,\n",
       " 0,\n",
       " 1,\n",
       " 1,\n",
       " 0,\n",
       " 0,\n",
       " 0,\n",
       " 1,\n",
       " 0,\n",
       " 0,\n",
       " 1,\n",
       " 0,\n",
       " 1,\n",
       " 0,\n",
       " 1,\n",
       " 1,\n",
       " 1,\n",
       " 0,\n",
       " 1,\n",
       " 0,\n",
       " 0,\n",
       " 0,\n",
       " 0,\n",
       " 0,\n",
       " 0,\n",
       " 0,\n",
       " 0,\n",
       " 0,\n",
       " 0,\n",
       " 0,\n",
       " 1,\n",
       " 1,\n",
       " 0,\n",
       " 1,\n",
       " 0,\n",
       " 0,\n",
       " 1,\n",
       " 0,\n",
       " 1,\n",
       " 1,\n",
       " 1,\n",
       " 0,\n",
       " 0,\n",
       " 0,\n",
       " 1,\n",
       " 0,\n",
       " 1,\n",
       " 0,\n",
       " 0,\n",
       " 0,\n",
       " 1,\n",
       " 0,\n",
       " 1,\n",
       " 1,\n",
       " 1,\n",
       " 0,\n",
       " 0,\n",
       " 0,\n",
       " 0,\n",
       " 0,\n",
       " 1,\n",
       " 1,\n",
       " 1,\n",
       " 1,\n",
       " 0,\n",
       " 0,\n",
       " 1,\n",
       " 0,\n",
       " 1,\n",
       " 0,\n",
       " 1,\n",
       " 0,\n",
       " 0,\n",
       " 0,\n",
       " 1,\n",
       " 0,\n",
       " 0,\n",
       " 1,\n",
       " 1,\n",
       " 1,\n",
       " 0]"
      ]
     },
     "execution_count": 15,
     "metadata": {},
     "output_type": "execute_result"
    }
   ],
   "source": [
    "y_true = [1 if ele > 0 else 0 for ele in list(df[0])]\n",
    "y_true"
   ]
  },
  {
   "cell_type": "code",
   "execution_count": 32,
   "id": "2ad3edaa",
   "metadata": {},
   "outputs": [
    {
     "data": {
      "image/png": "[encoded data removed]",
      "text/plain": [
       "<Figure size 640x480 with 1 Axes>"
      ]
     },
     "metadata": {},
     "output_type": "display_data"
    }
   ],
   "source": [
    "from sklearn.metrics import precision_recall_curve\n",
    "from matplotlib import pyplot\n",
    "lr_precision, lr_recall, thresh = precision_recall_curve(y_true, y_pred)\n",
    "pyplot.plot(lr_recall, lr_precision, label='Feature 75')\n",
    "pyplot.xlabel('Recall')\n",
    "pyplot.ylabel('Precision')\n",
    "# show the legend\n",
    "pyplot.legend()\n",
    "# show the plot\n",
    "pyplot.show()"
   ]
  },
  {
   "cell_type": "code",
   "execution_count": 39,
   "id": "4344fb9f",
   "metadata": {},
   "outputs": [
    {
     "data": {
      "text/plain": [
       "87"
      ]
     },
     "execution_count": 39,
     "metadata": {},
     "output_type": "execute_result"
    }
   ],
   "source": [
    "import numpy as np\n",
    "thresh = np.append(thresh, 1.0)\n",
    "len(thresh)"
   ]
  },
  {
   "cell_type": "code",
   "execution_count": 29,
   "id": "bed88dea",
   "metadata": {},
   "outputs": [
    {
     "data": {
      "image/png": "[encoded data removed]",
      "text/plain": [
       "<Figure size 640x480 with 1 Axes>"
      ]
     },
     "metadata": {},
     "output_type": "display_data"
    }
   ],
   "source": [
    "pyplot.plot(thresh, lr_precision, label='precision')\n",
    "pyplot.plot(thresh, lr_recall, label='recall')\n",
    "pyplot.xlabel('Threshold')\n",
    "# show the legend\n",
    "pyplot.legend()\n",
    "# show the plot\n",
    "pyplot.show()"
   ]
  },
  {
   "cell_type": "code",
   "execution_count": null,
   "id": "fb5376e7",
   "metadata": {},
   "outputs": [],
   "source": [
    "# Threshold here refers to the value(normalised) of feature 75 above which the document is classified as relevant. \n",
    "# As the threshold decreases, the Recall increases (more and more documents are classified as relevant)\n",
    "# Initially, the precision values change erattically, because the no. of documents are very less and every document \n",
    "# impacts the precision value heavily. But as the threshold decreases, more and more documents are classified as relevant\n",
    "# and impact of inidvidual documents on precision decreases."
   ]
  },
  {
   "cell_type": "code",
   "execution_count": null,
   "id": "d17d745e",
   "metadata": {},
   "outputs": [],
   "source": [
    "y_true"
   ]
  },
  {
   "cell_type": "code",
   "execution_count": null,
   "id": "e1102569",
   "metadata": {},
   "outputs": [],
   "source": [
    "y_pred"
   ]
  }
 ],
 "metadata": {
  "kernelspec": {
   "display_name": "Python 3",
   "language": "python",
   "name": "python3"
  },
  "language_info": {
   "codemirror_mode": {
    "name": "ipython",
    "version": 3
   },
   "file_extension": ".py",
   "mimetype": "text/x-python",
   "name": "python",
   "nbconvert_exporter": "python",
   "pygments_lexer": "ipython3",
   "version": "3.10.6"
  },
  "vscode": {
   "interpreter": {
    "hash": "916dbcbb3f70747c44a77c7bcd40155683ae19c65e1c03b4aa3499c5328201f1"
   }
  }
 },
 "nbformat": 4,
 "nbformat_minor": 5
}
